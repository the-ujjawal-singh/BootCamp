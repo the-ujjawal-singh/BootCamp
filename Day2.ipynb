{
  "metadata": {
    "kernelspec": {
      "name": "python",
      "display_name": "Python (Pyodide)",
      "language": "python"
    },
    "language_info": {
      "codemirror_mode": {
        "name": "python",
        "version": 3
      },
      "file_extension": ".py",
      "mimetype": "text/x-python",
      "name": "python",
      "nbconvert_exporter": "python",
      "pygments_lexer": "ipython3",
      "version": "3.8"
    }
  },
  "nbformat_minor": 4,
  "nbformat": 4,
  "cells": [
    {
      "cell_type": "markdown",
      "source": "\n1.\tGiven a list of integers, remove all occurrences of a specific value using a list method. \n",
      "metadata": {}
    },
    {
      "cell_type": "code",
      "source": "l = [1, 2, 3, 4, 2, 2, 5, 2]\nvalue_to_remove = 2\nl = [x for x in l if x != value_to_remove]\nl",
      "metadata": {
        "trusted": true
      },
      "outputs": [
        {
          "execution_count": 1,
          "output_type": "execute_result",
          "data": {
            "text/plain": "[1, 3, 4, 5]"
          },
          "metadata": {}
        }
      ],
      "execution_count": 1
    },
    {
      "cell_type": "markdown",
      "source": " \n2.\tConcatenate a list of strings into a single string, with each element separated by a space, using a list method.\n",
      "metadata": {}
    },
    {
      "cell_type": "code",
      "source": "l1 = [\"Hello\", \"welcome\", \"to\", \"the\", \"bootcamp\"]\nresult = \" \".join(l1)\nresult ",
      "metadata": {
        "trusted": true
      },
      "outputs": [
        {
          "execution_count": 2,
          "output_type": "execute_result",
          "data": {
            "text/plain": "'Hello welcome to the bootcamp'"
          },
          "metadata": {}
        }
      ],
      "execution_count": 2
    },
    {
      "cell_type": "markdown",
      "source": "\n3.\tReverse a list of integers using a built-in list method.\n",
      "metadata": {}
    },
    {
      "cell_type": "code",
      "source": "l3 = [4,1,6,71,7,0,4]\nl3.reverse()\nl3",
      "metadata": {
        "trusted": true
      },
      "outputs": [
        {
          "execution_count": 3,
          "output_type": "execute_result",
          "data": {
            "text/plain": "[4, 0, 7, 71, 6, 1, 4]"
          },
          "metadata": {}
        }
      ],
      "execution_count": 3
    },
    {
      "cell_type": "markdown",
      "source": "\n4.\tSort a list of numbers in descending order using a built-in list method.\n",
      "metadata": {}
    },
    {
      "cell_type": "code",
      "source": "l4 = [4,1,6,7,1,7,0,4]\nl4.sort(reverse=True)\nl4",
      "metadata": {
        "trusted": true
      },
      "outputs": [
        {
          "execution_count": 4,
          "output_type": "execute_result",
          "data": {
            "text/plain": "[7, 7, 6, 4, 4, 1, 1, 0]"
          },
          "metadata": {}
        }
      ],
      "execution_count": 4
    },
    {
      "cell_type": "markdown",
      "source": "\n5.\tGiven two lists, combine them into a single list and remove any duplicate elements using a list method.\n",
      "metadata": {}
    },
    {
      "cell_type": "code",
      "source": "list1 = [1, 2, 3, 4, 5]\nlist2 = [3, 4, 5, 6, 7]\ncombined_list = list(set(list1 + list2))\ncombined_list",
      "metadata": {
        "trusted": true
      },
      "outputs": [
        {
          "execution_count": 5,
          "output_type": "execute_result",
          "data": {
            "text/plain": "[1, 2, 3, 4, 5, 6, 7]"
          },
          "metadata": {}
        }
      ],
      "execution_count": 5
    },
    {
      "cell_type": "markdown",
      "source": "\n6.\tConvert a tuple of integers into a list and remove the first and last elements using a tuple method.\n",
      "metadata": {}
    },
    {
      "cell_type": "code",
      "source": "t = (3,8,5,1,9,4)\nt1=list(t)[1:-1]\n# tup = t1[1:-1]\nt1",
      "metadata": {
        "trusted": true
      },
      "outputs": [
        {
          "execution_count": 6,
          "output_type": "execute_result",
          "data": {
            "text/plain": "[8, 5, 1, 9]"
          },
          "metadata": {}
        }
      ],
      "execution_count": 6
    },
    {
      "cell_type": "markdown",
      "source": "\n7.\tGiven a list of tuples, extract all the first elements of each tuple into a separate list using tuple unpacking.\n",
      "metadata": {}
    },
    {
      "cell_type": "code",
      "source": "ls = [(1,2),(3,4),(5,6)]\nsep = [x for x, _ in ls]\nsep",
      "metadata": {
        "trusted": true
      },
      "outputs": [
        {
          "execution_count": 7,
          "output_type": "execute_result",
          "data": {
            "text/plain": "[1, 3, 5]"
          },
          "metadata": {}
        }
      ],
      "execution_count": 7
    },
    {
      "cell_type": "markdown",
      "source": "\n8.\tCombine two tuples into a single tuple.\n",
      "metadata": {}
    },
    {
      "cell_type": "code",
      "source": "tuple1 = (1, 2, 3)\ntuple2 = (4, 5, 6)\ncomb_tuple = tuple1 + tuple2\ncomb_tuple",
      "metadata": {
        "trusted": true
      },
      "outputs": [
        {
          "execution_count": 8,
          "output_type": "execute_result",
          "data": {
            "text/plain": "(1, 2, 3, 4, 5, 6)"
          },
          "metadata": {}
        }
      ],
      "execution_count": 8
    },
    {
      "cell_type": "markdown",
      "source": "\n9.\tFind the maximum and minimum values in a tuple of numbers using tuple methods.\n",
      "metadata": {}
    },
    {
      "cell_type": "code",
      "source": "num = (10, 20, 5, 40, 30)\nmaxi = max(num)\nmini = min(num)\nprint(maxi)  \nprint(mini)  ",
      "metadata": {
        "trusted": true
      },
      "outputs": [
        {
          "name": "stdout",
          "text": "40\n5\n",
          "output_type": "stream"
        }
      ],
      "execution_count": 9
    },
    {
      "cell_type": "markdown",
      "source": "\n10.\tConvert a tuple of strings into a single string, with each element separated by a comma, using tuple methods.\n",
      "metadata": {}
    },
    {
      "cell_type": "code",
      "source": "s_tup = (\"How\", \"are\", \"you\")\ncomb_s = ', '.join(s_tup)\ncomb_s",
      "metadata": {
        "trusted": true
      },
      "outputs": [
        {
          "execution_count": 10,
          "output_type": "execute_result",
          "data": {
            "text/plain": "'How, are, you'"
          },
          "metadata": {}
        }
      ],
      "execution_count": 10
    },
    {
      "cell_type": "markdown",
      "source": "\n11.\tGiven two sets, return the union of the two sets using a set operation.\n",
      "metadata": {}
    },
    {
      "cell_type": "code",
      "source": "set1 = {1, 2, 3}\nset2 = {3, 4, 1, 5}\nopr = set1.union(set2)\nopr\n# set_opr = set1 | set2",
      "metadata": {
        "trusted": true
      },
      "outputs": [
        {
          "execution_count": 11,
          "output_type": "execute_result",
          "data": {
            "text/plain": "{1, 2, 3, 4, 5}"
          },
          "metadata": {}
        }
      ],
      "execution_count": 11
    },
    {
      "cell_type": "markdown",
      "source": "\n12.\tFind the intersection of two sets using a set method.\n",
      "metadata": {}
    },
    {
      "cell_type": "code",
      "source": "inter_opr = set1.intersection(set2)\ninter_opr",
      "metadata": {
        "trusted": true
      },
      "outputs": [
        {
          "execution_count": 12,
          "output_type": "execute_result",
          "data": {
            "text/plain": "{1, 3}"
          },
          "metadata": {}
        }
      ],
      "execution_count": 12
    },
    {
      "cell_type": "markdown",
      "source": "\n13.\tRemove all elements from one set that are also present in another set using a set method.\n",
      "metadata": {}
    },
    {
      "cell_type": "code",
      "source": "inter_opr = set1.intersection(set2)\ninter_opr\n",
      "metadata": {
        "trusted": true
      },
      "outputs": [
        {
          "execution_count": 16,
          "output_type": "execute_result",
          "data": {
            "text/plain": "{1, 3}"
          },
          "metadata": {}
        }
      ],
      "execution_count": 16
    },
    {
      "cell_type": "markdown",
      "source": "\n14.\tFind the difference between two sets using a set method.\n",
      "metadata": {}
    },
    {
      "cell_type": "code",
      "source": "diff_opr = set1.difference(set2)\ndiff_opr",
      "metadata": {
        "trusted": true
      },
      "outputs": [
        {
          "execution_count": 17,
          "output_type": "execute_result",
          "data": {
            "text/plain": "set()"
          },
          "metadata": {}
        }
      ],
      "execution_count": 17
    },
    {
      "cell_type": "markdown",
      "source": "\n15.\tConvert a list of integers into a set and then back to a list to remove duplicates, using set operations.\n",
      "metadata": {}
    },
    {
      "cell_type": "code",
      "source": "num_list = [1, 2, 3, 4, 5, 1, 2, 3]\nnum_set = set(num_list)\ns = list(num_set)\ns",
      "metadata": {
        "trusted": true
      },
      "outputs": [
        {
          "execution_count": 18,
          "output_type": "execute_result",
          "data": {
            "text/plain": "[1, 2, 3, 4, 5]"
          },
          "metadata": {}
        }
      ],
      "execution_count": 18
    },
    {
      "cell_type": "markdown",
      "source": "16.Merge two dictionaries into a single dictionary using a dictionary method.",
      "metadata": {}
    },
    {
      "cell_type": "code",
      "source": "dict1 = {'a': 1, 'b': 2}\ndict2 = {'b': 3, 'c': 4}\nmerged_dict = {**dict1, **dict2}\nmerged_dict",
      "metadata": {
        "trusted": true
      },
      "outputs": [
        {
          "execution_count": 19,
          "output_type": "execute_result",
          "data": {
            "text/plain": "{'a': 1, 'b': 3, 'c': 4}"
          },
          "metadata": {}
        }
      ],
      "execution_count": 19
    },
    {
      "cell_type": "markdown",
      "source": "17.Extract all values from a dictionary into a list using a dictionary method.",
      "metadata": {}
    },
    {
      "cell_type": "code",
      "source": "my_dict = {'a': 1, 'b': 2, 'c': 3}\nvalues_list = list(my_dict.values())\nvalues_list",
      "metadata": {
        "trusted": true
      },
      "outputs": [
        {
          "execution_count": 20,
          "output_type": "execute_result",
          "data": {
            "text/plain": "[1, 2, 3]"
          },
          "metadata": {}
        }
      ],
      "execution_count": 20
    },
    {
      "cell_type": "code",
      "source": "",
      "metadata": {
        "trusted": true
      },
      "outputs": [],
      "execution_count": null
    }
  ]
}