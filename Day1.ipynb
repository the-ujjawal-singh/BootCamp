{
  "metadata": {
    "kernelspec": {
      "name": "python",
      "display_name": "Python (Pyodide)",
      "language": "python"
    },
    "language_info": {
      "codemirror_mode": {
        "name": "python",
        "version": 3
      },
      "file_extension": ".py",
      "mimetype": "text/x-python",
      "name": "python",
      "nbconvert_exporter": "python",
      "pygments_lexer": "ipython3",
      "version": "3.8"
    }
  },
  "nbformat_minor": 5,
  "nbformat": 4,
  "cells": [
    {
      "id": "177558d7-c4ba-43e2-a7fe-aad64cbada64",
      "cell_type": "markdown",
      "source": "1.Convert a string to a zigzag pattern on a given number of rows and then read it row by row.\n   - Input: s = \"PAYPALISHIRING\", numRows = 3\n   - \n",
      "metadata": {}
    },
    {
      "id": "1a0b294c-2ab5-4e5f-b6c3-206bea53c20d",
      "cell_type": "code",
      "source": "s = \"PAYPALISHIRING\"\nnumRows = 3\n\n# P   A   H   N\n# A P L S I I G\n# Y   I   R\n\ndef convert(s: str, numRows: int) -> str:\n    if numRows == 1 or numRows >= len(s):\n        return s\n\n    result = \"\"  \n    # for rows 0 and -1\n    step_size = 2 * (numRows - 1) \n\n    for r in range(numRows):\n        for i in range(r, len(s), step_size):\n            result += s[i]\n            # for rows between 0 and numRows - 1\n            if r > 0 and r < numRows - 1 and i + step_size - 2 * r < len(s):\n                result += s[i + step_size - 2 * r]\n        \n    return result\n\nresult = convert(s, numRows)\nprint(result)",
      "metadata": {
        "trusted": true
      },
      "outputs": [
        {
          "name": "stdout",
          "text": "PAHNAPLSIIGYIR\n",
          "output_type": "stream"
        }
      ],
      "execution_count": 1
    },
    {
      "id": "c332b92f-2135-4c31-aa77-2f260de5fd2b",
      "cell_type": "markdown",
      "source": "2.Implement a method to perform basic string compression using the counts of repeated characters.\n   - Input: \"aabcccccaaa\"\n",
      "metadata": {}
    },
    {
      "id": "c723b48b-a23f-4d6d-a2dc-db3d866b973f",
      "cell_type": "code",
      "source": "string = 'aabcccccaaa'\n\ndef string_compression(s):\n    result = \"\"\n    if not s:\n        return result\n    char_count = 1  # Initialize character count to 1\n    for i in range(1, len(s)):\n        if s[i] == s[i - 1]:\n            char_count += 1\n        else:\n            result += s[i - 1] + str(char_count)\n            char_count = 1\n    result += s[-1] + str(char_count)\n    return result\n\nprint(string_compression(string))",
      "metadata": {
        "trusted": true
      },
      "outputs": [
        {
          "name": "stdout",
          "text": "a2b1c5a3\n",
          "output_type": "stream"
        }
      ],
      "execution_count": 2
    },
    {
      "id": "82fc462e-9751-4bd5-8875-75fcb805b907",
      "cell_type": "markdown",
      "source": "3. Write a function that generates all possible permutations of a given string.\n   - Input: \"ABC\"\n",
      "metadata": {}
    },
    {
      "id": "a57ef2b3-ae08-4d28-a7ef-91d9c04794ba",
      "cell_type": "code",
      "source": "strs = \"ABC\"\n\nimport itertools\n\ndef permute(strs: str) -> list:\n    res = [''.join(p) for p in itertools.permutations(strs)]\n    return res\n    \nresult = permute(strs)\nprint(result) ",
      "metadata": {
        "trusted": true
      },
      "outputs": [
        {
          "name": "stdout",
          "text": "['ABC', 'ACB', 'BAC', 'BCA', 'CAB', 'CBA']\n",
          "output_type": "stream"
        }
      ],
      "execution_count": 3
    },
    {
      "id": "276f60fd-46a1-4903-a9c0-1418d629972c",
      "cell_type": "markdown",
      "source": "4. Given an array of strings, group anagrams together.\n   - Input: [\"eat\", \"tea\", \"tan\", \"ate\", \"nat\", \"bat\"]\n",
      "metadata": {}
    },
    {
      "id": "bcd6c5f3-7c7a-40c3-973b-d257f0883683",
      "cell_type": "code",
      "source": "from typing import List\nfrom collections import defaultdict\n\nl = [\"eat\", \"tea\", \"tan\", \"ate\", \"nat\", \"bat\"]\n\ndef groupAnagrams(l: List[str]) -> List[List[str]]:\n    d = defaultdict(list)\n    for s in l:\n        k = ''.join(sorted(s))\n        d[k].append(s)\n    return list(d.values())\n\nresult = groupAnagrams(l)\nprint(result)",
      "metadata": {
        "trusted": true
      },
      "outputs": [
        {
          "name": "stdout",
          "text": "[['eat', 'tea', 'ate'], ['tan', 'nat'], ['bat']]\n",
          "output_type": "stream"
        }
      ],
      "execution_count": 4
    },
    {
      "id": "e8c8aa78-6339-47d1-9d8f-f974a3ee6541",
      "cell_type": "markdown",
      "source": "5. Write a function to multiply two large numbers represented as strings.\n   - Input: num1 = \"123\", num2 = \"456\"\n",
      "metadata": {}
    },
    {
      "id": "d77f24c9-b233-4f0b-86ad-2c3f36b55594",
      "cell_type": "code",
      "source": "num1 = \"123\"\nnum2 = \"456\"\n\ndef multiply(num1: str, num2: str) -> str:\n    if num1 == \"0\" or num2 == \"0\":\n        return \"0\"\n    m, n = len(num1), len(num2)\n    arr = [0] * (m + n)\n    for i in range(m - 1, -1, -1):\n        a = int(num1[i])\n        for j in range(n - 1, -1, -1):\n            b = int(num2[j])\n            arr[i + j + 1] += a * b\n    for i in range(m + n - 1, 0, -1):\n        arr[i - 1] += arr[i] // 10\n        arr[i] %= 10\n    i = 0 if arr[0] else 1\n    return \"\".join(str(x) for x in arr[i:])\n\nresult = multiply(num1, num2)\nprint(result)",
      "metadata": {
        "trusted": true
      },
      "outputs": [
        {
          "name": "stdout",
          "text": "56088\n",
          "output_type": "stream"
        }
      ],
      "execution_count": 5
    },
    {
      "id": "7ce66912-0942-48d8-b51f-0ce46ee87050",
      "cell_type": "markdown",
      "source": "6.Given two strings, check if one is a rotation of the other using only one call to a string method.\n   - Input: str1 = \"ABCD\", str2 = \"DABC\"\n",
      "metadata": {}
    },
    {
      "id": "bdf2bb3e-38f1-4189-920c-4f4c1e5d9227",
      "cell_type": "code",
      "source": "str1 = \"ABCD\"\nstr2 = \"DABC\"\n\ndef is_rotation(str1: str, str2: str) -> bool:\n    return len(str1) == len(str2) and str2 in (str1 + str1)\n\nresult = is_rotation(str1, str2)\nprint(result)",
      "metadata": {
        "trusted": true
      },
      "outputs": [
        {
          "name": "stdout",
          "text": "True\n",
          "output_type": "stream"
        }
      ],
      "execution_count": 6
    },
    {
      "id": "c468094c-88cd-40a6-9dfe-aeb146dd77ff",
      "cell_type": "markdown",
      "source": "7.Given a string containing just the characters (, ), {, }, [, and ], determine if the input string is valid.\n   - Input: \"()[]{}\"\n",
      "metadata": {}
    },
    {
      "id": "5feb6e25-9a88-495d-a47a-46ce4cf9e1dc",
      "cell_type": "code",
      "source": "parentheses = \"()[]{}\"\n\ndef isValid(parentheses: str) -> bool:\n    stack = []  \n    brackets = {')': '(', '}': '{', ']': '['}  # a hash-map to quickly compare opening and closing brackets\n\n    for char in parentheses:\n        if char in brackets.values():  \n            stack.append(char)\n        elif char in brackets: \n            if stack and stack[-1] == brackets[char]:\n                stack.pop()\n            else:  \n                return False\n        else:  \n            return False\n\n    return not stack \n\nresult = isValid(parentheses)\nprint(result) ",
      "metadata": {
        "trusted": true
      },
      "outputs": [
        {
          "name": "stdout",
          "text": "True\n",
          "output_type": "stream"
        }
      ],
      "execution_count": 7
    },
    {
      "id": "908caff7-030b-4df9-9962-b35450ddba39",
      "cell_type": "markdown",
      "source": "8.Implement the function atoi which converts a string to an integer.\n   - Input: \"4193 with words\"\n",
      "metadata": {}
    },
    {
      "id": "56e91825-fd25-41d0-89a1-230310fc2015",
      "cell_type": "code",
      "source": "input_str = \"4193 with words\"\n\ndef my_atoi(s: str) -> int:\n    s = s.strip() \n    if not s:\n        return 0\n\n    sign = 1 \n    index = 0  \n\n    if s[index] == '-':\n        sign = -1\n        index += 1\n    elif s[index] == '+':\n        index += 1\n\n    result = 0\n\n    while index < len(s) and s[index].isdigit():\n        digit = int(s[index])  \n        result = result * 10 + digit  \n\n        if result >= 2**31:\n            return 2**31 - 1 if sign == 1 else -2**31\n        index += 1\n\n    return result * sign \n\nresult = my_atoi(input_str)\nprint(result)  ",
      "metadata": {
        "trusted": true
      },
      "outputs": [
        {
          "name": "stdout",
          "text": "4193\n",
          "output_type": "stream"
        }
      ],
      "execution_count": 11
    },
    {
      "id": "bf05a15e-1e70-48c6-abb0-cf0170c40036",
      "cell_type": "markdown",
      "source": "9.Write a function that generates the nth term of the \"count and say\" sequence.\n   - Input: n = 4\n",
      "metadata": {}
    },
    {
      "id": "2c3d0cb6-85e5-493d-804c-94131aa9af11",
      "cell_type": "code",
      "source": "n = 4\ndef countAndSay(n: int) -> str:\n    s = '1'\n    for _ in range(n - 1):\n        i = 0\n        t = []\n        while i < len(s):\n            j = i\n            while j < len(s) and s[j] == s[i]:\n                j += 1\n            t.append(str(j - i))\n            t.append(str(s[i]))\n            i = j\n        s = ''.join(t)\n    return s\n\nresult = countAndSay(n)\nprint(result) ",
      "metadata": {
        "trusted": true
      },
      "outputs": [
        {
          "name": "stdout",
          "text": "1211\n",
          "output_type": "stream"
        }
      ],
      "execution_count": 12
    },
    {
      "id": "e7dcd807-7759-4caf-a0d5-574002f840c7",
      "cell_type": "markdown",
      "source": "10. Given two strings s and t, return the minimum window in s which will contain all the characters in t.\n   - Input: s = \"ADOBECODEBANC\", t = \"ABC\"\n",
      "metadata": {}
    },
    {
      "id": "cfd082f0-30b6-485e-93e8-58fd41203e90",
      "cell_type": "code",
      "source": "\ns = \"ADOBECODEBANC\"\nt = \"ABC\"\n\nfrom collections import Counter\nfrom math import inf\n\ndef minWindow(s: str, t: str) -> str:\n    need = Counter(t)\n    window = Counter()\n    cnt, j, k, mi = 0, 0, -1, inf\n    for i, c in enumerate(s):\n        window[c] += 1\n        if need[c] >= window[c]:\n            cnt += 1\n        while cnt == len(t):\n            if i - j + 1 < mi:\n                mi = i - j + 1\n                k = j\n            if need[s[j]] >= window[s[j]]:\n                cnt -= 1\n            window[s[j]] -= 1\n            j += 1\n    return '' if k < 0 else s[k : k + mi]\n\nresult = minWindow(s,t)\nprint(result)",
      "metadata": {
        "trusted": true
      },
      "outputs": [
        {
          "name": "stdout",
          "text": "BANC\n",
          "output_type": "stream"
        }
      ],
      "execution_count": 13
    },
    {
      "id": "85151a4f-c9b0-473f-9347-aa6192ccd8cc",
      "cell_type": "markdown",
      "source": "11. Given a string, find the length of the longest substring without repeating characters.\n   - Input: \"abcabcbb\"\n",
      "metadata": {}
    },
    {
      "id": "09e921d5-ef5b-4c95-b38f-f868978a0c81",
      "cell_type": "code",
      "source": "s = \"abcabcbb\"\ndef lengthOfLongestSubstring(s: str) -> int:\n    ss = set()\n    ans = i = 0\n    for j, c in enumerate(s):\n        while c in ss:\n            ss.remove(s[i])\n            i += 1\n        ss.add(c)\n        ans = max(ans, j - i + 1)\n    return ans\nresult = lengthOfLongestSubstring(s)\nprint(result) ",
      "metadata": {
        "trusted": true
      },
      "outputs": [
        {
          "name": "stdout",
          "text": "3\n",
          "output_type": "stream"
        }
      ],
      "execution_count": 14
    },
    {
      "id": "1f6ae656-c87d-4943-967a-da779aa968f9",
      "cell_type": "markdown",
      "source": "12.Given three strings s1, s2, and s3, determine if s3 is formed by the interleaving of s1 and s2.\n   - Input: s1 = \"aabcc\", s2 = \"dbbca\", s3 = \"aadbbcbcac\"\n",
      "metadata": {}
    },
    {
      "id": "868816af-f4bf-4238-bc39-ca12a9c23c74",
      "cell_type": "code",
      "source": "s1 = \"aabcc\"\ns2 = \"dbbca\"\ns3 = \"aadbbcbcac\"\n\n# from functools import lru_cache\ndef isInterleave(s1: str, s2: str, s3: str) -> bool:\n#     @lur_cache(None)\n    def dfs(i: int, j: int) -> bool:\n        if i >= m and j >= n:\n            return True\n        k = i + j\n        if i < m and s1[i] == s3[k] and dfs(i + 1, j):\n            return True\n        if j < n and s2[j] == s3[k] and dfs(i, j + 1):\n            return True\n        return False\n\n    m, n = len(s1), len(s2)\n    if m + n != len(s3):\n        return False\n    return dfs(0, 0)\nresult = isInterleave(s1,s2,s3)\nprint(result) ",
      "metadata": {
        "trusted": true
      },
      "outputs": [
        {
          "name": "stdout",
          "text": "True\n",
          "output_type": "stream"
        }
      ],
      "execution_count": 15
    },
    {
      "id": "b0b5caf6-d892-43cf-8bf5-15f8a1ade568",
      "cell_type": "markdown",
      "source": "13. Write a function to convert a Roman numeral to an integer.\n   - Input: \"MCMXCIV\"\n",
      "metadata": {}
    },
    {
      "id": "53c5c94c-2fa4-4953-84dd-7557d6c41d91",
      "cell_type": "code",
      "source": "S=\"MCMXCIV\"\n\nroman = {'I':1,'V':5,'X':10,'L':50,'C':100,'D':500,'M':1000}\n\ndef romanToInt(S: str) -> int:\n    ans = 0\n    for i in range(len(S)-1,-1,-1):\n        num = roman[S[i]]\n        if 4 * num < ans: ans -= num\n        else: ans += num\n    return ans\n\nresult = romanToInt(S)\nprint(result) ",
      "metadata": {
        "trusted": true
      },
      "outputs": [
        {
          "name": "stdout",
          "text": "1994\n",
          "output_type": "stream"
        }
      ],
      "execution_count": 16
    },
    {
      "id": "f6ca7b94-9462-4b8d-b918-29e67573cd26",
      "cell_type": "markdown",
      "source": "14. Find the longest common substring between two strings.\n   - Input: str1 = \"ABABC\", str2 = \"BABCA\"\n",
      "metadata": {}
    },
    {
      "id": "522c3462-fb27-470f-b14f-d042baf3c3d5",
      "cell_type": "code",
      "source": "str1 = \"ABABC\"\nstr2 = \"BABCA\"\n\ndef longest_common_subsequence(str1, str2):\n    n, m = len(str1), len(str2)\n    # create dp matrix\n    dp = [[0 for j in range(m + 1)] for i in range(n + 1)]\n\n    # run dp\n    for i in range(1, n + 1):\n        for j in range(1, m + 1):\n            # checks only in 3 directions in the table\n            # in short: to the current position dp could come from those 3 previous positions\n            #   ^  ^\n            #    \\ |\n            #   <- O\n            if str1[i - 1] == str2[j - 1]:\n                # from this position dp could come only if there is a match in the previous chars\n                dp[i][j] = dp[i - 1][j - 1] + 1\n            else:\n                # dp could come from these positions only if there is no much\n                dp[i][j] = max(dp[i - 1][j], dp[i][j - 1])\n\n    # find the subseqence/string\n    letters = dp[n][m]\n    # use an array for storing the chars because string manipulation operations are not time and space efficient\n    result = ['' for i in range(letters)]\n    i = n\n    j = m\n\n    while (i != 0) and (j != 0):\n        # use the inverse logic from upper code (filling the dp table)\n        if str1[i - 1] == str2[j - 1]:\n            letters -= 1\n            result[letters] = str1[i - 1]\n            j -= 1\n            i -= 1\n        elif dp[i - 1][j] < dp[i][j - 1]:\n            j -= 1\n        else:\n            i -= 1\n\n    return ''.join(result)\n\nresult = longest_common_subsequence(str1, str2)\nprint(result)  ",
      "metadata": {
        "trusted": true
      },
      "outputs": [
        {
          "name": "stdout",
          "text": "BABC\n",
          "output_type": "stream"
        }
      ],
      "execution_count": 17
    },
    {
      "id": "b94bd1fe-9e02-4353-85ad-59b2f7ccbd91",
      "cell_type": "markdown",
      "source": "15. Given a string s and a dictionary of words, check if s can be segmented into a space-separated sequence of one or more dictionary words.\n   - Input: s = \"leetcode\", wordDict = [\"leet\", \"code\"]\n",
      "metadata": {}
    },
    {
      "id": "f9e1b220-f701-4862-ba3d-4ef44c3f3332",
      "cell_type": "code",
      "source": "s = \"leetcode\"\nwordDict = [\"leet\", \"code\"]\n\ndef wordBreak(s: str, wordDict: List[str]) -> bool:\n    dp ={\"\":True}\n    def valid(curr):\n        if curr in dp:\n            return dp[curr]\n\n        for i in range(len(curr)-1,-1,-1):\n            if curr[i:] in wordDict:\n                dp[curr[i:]] = valid(curr[:i])\n                if dp[curr[i:]]:\n                    return True\n        dp[curr]=False\n        return False\n\n    return valid(s)\n\nresult = wordBreak(s, wordDict)\nprint(result)\n",
      "metadata": {
        "trusted": true
      },
      "outputs": [
        {
          "name": "stdout",
          "text": "True\n",
          "output_type": "stream"
        }
      ],
      "execution_count": 18
    },
    {
      "id": "a1acd88d-6962-40a9-9ca6-e0d2f3c0d14d",
      "cell_type": "markdown",
      "source": "16. Remove the minimum number of invalid parentheses to make the input string valid. Return all possible results.\n   - Input: \"()())()\"\n",
      "metadata": {}
    },
    {
      "id": "d654904a-5513-424a-823c-e5c3f4c31fb7",
      "cell_type": "code",
      "source": "s=\"()())()\"\n\ndef removeInvalidParentheses(s: str) -> List[str]:\n    def dfs(i, l, r, lcnt, rcnt, t):\n        if i == n:\n            if l == 0 and r == 0:\n                ans.add(t)\n            return\n        if n - i < l + r or lcnt < rcnt:\n            return\n        if s[i] == '(' and l:\n            dfs(i + 1, l - 1, r, lcnt, rcnt, t)\n        elif s[i] == ')' and r:\n            dfs(i + 1, l, r - 1, lcnt, rcnt, t)\n        dfs(i + 1, l, r, lcnt + (s[i] == '('), rcnt + (s[i] == ')'), t + s[i])\n\n    l = r = 0\n    for c in s:\n        if c == '(':\n            l += 1\n        elif c == ')':\n            if l:\n                l -= 1\n            else:\n                r += 1\n    ans = set()\n    n = len(s)\n    dfs(0, l, r, 0, 0, '')\n    return list(ans)\n\nresult = removeInvalidParentheses(s)\nprint(result)",
      "metadata": {
        "trusted": true
      },
      "outputs": [
        {
          "name": "stdout",
          "text": "['()()()', '(())()']\n",
          "output_type": "stream"
        }
      ],
      "execution_count": 19
    },
    {
      "id": "b1a7b47f-6c68-4076-bc38-06e380e3f672",
      "cell_type": "code",
      "source": "",
      "metadata": {
        "trusted": true
      },
      "outputs": [],
      "execution_count": null
    }
  ]
}